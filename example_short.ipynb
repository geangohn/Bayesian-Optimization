{
 "cells": [
  {
   "cell_type": "code",
   "execution_count": 20,
   "metadata": {},
   "outputs": [],
   "source": [
    "from hyperopt import fmin, hp, tpe, Trials, space_eval\n",
    "from hyperopt.pyll import scope as ho_scope\n",
    "from hyperopt.pyll.stochastic import sample as ho_sample\n",
    "\n",
    "from functools import partial\n",
    "import numpy as np"
   ]
  },
  {
   "cell_type": "code",
   "execution_count": 28,
   "metadata": {},
   "outputs": [],
   "source": [
    "from sklearn.ensemble import RandomForestClassifier\n",
    "from sklearn.pipeline import Pipeline\n",
    "from sklearn.preprocessing import StandardScaler\n",
    "from sklearn.model_selection import train_test_split, cross_val_score, StratifiedKFold"
   ]
  },
  {
   "cell_type": "code",
   "execution_count": 35,
   "metadata": {},
   "outputs": [],
   "source": [
    "from sklearn import datasets\n",
    "\n",
    "# import some data to play with\n",
    "iris = datasets.load_iris()\n",
    "X = iris.data[:, :2]  # we only take the first two features.\n",
    "y = iris.target\n",
    "y = (y > 1)*1   # to convert problem from multiclass- to 2-class classification\n",
    "\n",
    "X_train, X_test, y_train, y_test = train_test_split(X, y, test_size = 0.3)\n"
   ]
  },
  {
   "cell_type": "markdown",
   "metadata": {},
   "source": [
    "### Short tutorial"
   ]
  },
  {
   "cell_type": "markdown",
   "metadata": {},
   "source": [
    "**fmin** - central function of hyperopt, it performs guided search for a function minimum. It returns the point from parameters hyperspace that yielded the lowest loss. Most important arguments are:\n",
    "    - fn - function to minimize. Must accept a sample from parameters hyperspace and return real number (~scorer for GridSearchCV);\n",
    "    - space - parameters hyperspace to sample from;\n",
    "    - algo - algorithm which suggests new point given the points history. There are two options - tpe.suggest (guided search) and tpe.rand.suggest   \n",
    "             (essentially random search);\n",
    "    - max_evals - max number of points to sample;\n",
    "    - trials - object of class Trial to keep track of optimization history;\n",
    "    - rstate - pseudo-random generator seed, analogous to random_state from sklearn, for reproducibility;\n",
    "    - show_progressbar - well, kind of explains itself, doesn't it?\n",
    "**hp** - submodule to construct parameters hyperspace;  \n",
    "**tpe** - submodule, which component tpe.suggest is the heart on hyperopt. It is an algorithm for guided points sampling, named Tree of Parzen Estimators;  \n",
    "**Trials** - class, instances of which keep track of entire optimization process (stuff like parameters values, loss values, etc.);  \n",
    "**space_eval** (optional) - sometimes useful for restoring parameters values from hyperspace in case of complex hyperspaces;    \n",
    "**scope** - (optional) - submodule, among other things used for parameters type transformation. Say, you draw something from normal distribution,   \n",
    "            which comes out as float,   but your model accepts only integer types - scope rushes for help;  \n",
    "**sample** - (optional) - function to draw sample from hyperspace. Not required, but useful for testing whether you described your \n",
    "             hyperspace correctly before running fmin.  "
   ]
  },
  {
   "cell_type": "markdown",
   "metadata": {},
   "source": [
    "### Step 1: hyperparameter space to sample from"
   ]
  },
  {
   "cell_type": "code",
   "execution_count": null,
   "metadata": {},
   "outputs": [],
   "source": [
    "ho_scope.logi"
   ]
  },
  {
   "cell_type": "code",
   "execution_count": 69,
   "metadata": {},
   "outputs": [],
   "source": [
    "hp_space = {\n",
    "    # for StandardScaler\n",
    "    'scale': {'with_std': hp.choice('with_std', [True, False])},\n",
    "    # for classifier (Random Forest)\n",
    "    'clf': {\n",
    "            'n_estimators': ho_scope.int(hp.uniform('n_estimators', low=10, high=200)),   # for int hyperparams\n",
    "            'criterion': hp.choice('criterion', ['gini', 'entropy']),   # for cateforical hyperparam\n",
    "            'max_features': hp.uniform('max_features', low=0.25, high= 1.0)   # for float hyperparam\n",
    "            }\n",
    "}"
   ]
  },
  {
   "cell_type": "code",
   "execution_count": 61,
   "metadata": {},
   "outputs": [
    {
     "data": {
      "text/plain": [
       "{'clf': {'criterion': 'gini',\n",
       "  'max_features': 0.4269305373057428,\n",
       "  'n_estimators': 64},\n",
       " 'scale': {'with_std': True}}"
      ]
     },
     "execution_count": 61,
     "metadata": {},
     "output_type": "execute_result"
    }
   ],
   "source": [
    "ho_sample(hp_space)"
   ]
  },
  {
   "cell_type": "markdown",
   "metadata": {},
   "source": [
    "### Step 2: function"
   ]
  },
  {
   "cell_type": "markdown",
   "metadata": {},
   "source": [
    "Essentially, it is a machine learning model which depends on hyperparameters"
   ]
  },
  {
   "cell_type": "code",
   "execution_count": 62,
   "metadata": {},
   "outputs": [],
   "source": [
    "def f_clf(hyper_params):\n",
    "    \"\"\"\n",
    "    Constructs estimator\n",
    "    \n",
    "    Parameters:\n",
    "    ----------------\n",
    "    hyper_params : sample point from search space\n",
    "    \n",
    "    Returns:\n",
    "    ----------------\n",
    "    model : sklearn.Pipeline.pipeline with hyperparameters set up as per hps\n",
    "    \"\"\"\n",
    "    \n",
    "    # Assembing pipeline\n",
    "    model = Pipeline([\n",
    "        ('scale', StandardScaler(**hyper_params['scale'], \n",
    "                                 with_mean = True)), \n",
    "        ('clf', RandomForestClassifier(**hyper_params['clf'], \n",
    "                                       max_depth = 30))\n",
    "    ])\n",
    "    \n",
    "    return model"
   ]
  },
  {
   "cell_type": "markdown",
   "metadata": {},
   "source": [
    "### Step 3: loss to minimise"
   ]
  },
  {
   "cell_type": "code",
   "execution_count": 63,
   "metadata": {},
   "outputs": [],
   "source": [
    "def loss_to_min(hyper_params, X, y, cv=5):\n",
    "    \"\"\"\n",
    "    Target function for optimization\n",
    "    \n",
    "    Parameters:\n",
    "    ----------------\n",
    "    hps : sample point from search space\n",
    "    X : feature matrix\n",
    "    y : target array\n",
    "    ncv : number of folds for cross-validation\n",
    "    \n",
    "    Returns:\n",
    "    ----------------\n",
    "    : target function value (negative mean cross-val ROC-AUC score)\n",
    "    \"\"\"\n",
    "    \n",
    "    model = f_clf(hyper_params)\n",
    "    cv_res = cross_val_score(model, X, y, cv=StratifiedKFold(cv, random_state=42), \n",
    "                             scoring='roc_auc', n_jobs=-1)\n",
    "    \n",
    "    return -cv_res.mean()   # as we minimize this function (minimize -roc_auc)"
   ]
  },
  {
   "cell_type": "markdown",
   "metadata": {},
   "source": [
    "### Step 4: Run optimization"
   ]
  },
  {
   "cell_type": "markdown",
   "metadata": {},
   "source": [
    "**Note**: We are binding X and y arguments of target function to X_train and y_train respectively,   \n",
    "using *functools.partial*, since target function of fmin may accept only a search space point."
   ]
  },
  {
   "cell_type": "code",
   "execution_count": 70,
   "metadata": {},
   "outputs": [
    {
     "name": "stdout",
     "output_type": "stream",
     "text": [
      "100%|██████████| 20/20 [00:04<00:00,  3.71it/s, best loss: -0.8918367346938775]\n"
     ]
    }
   ],
   "source": [
    "trials_clf = Trials()   # keep track of optimization\n",
    "best_clf = fmin(partial(loss_to_min, X=X_train, y=y_train), \n",
    "                 hp_space, \n",
    "                 algo=tpe.suggest, \n",
    "                 max_evals=20, \n",
    "                 trials=trials_clf, \n",
    "                 rstate=np.random.RandomState(42))"
   ]
  },
  {
   "cell_type": "code",
   "execution_count": 71,
   "metadata": {},
   "outputs": [
    {
     "name": "stdout",
     "output_type": "stream",
     "text": [
      "Best parameters:\n",
      "{'clf': {'criterion': 'gini', 'max_features': 0.3757242297237475, 'n_estimators': 27}, 'scale': {'with_std': False}}\n"
     ]
    }
   ],
   "source": [
    "print('Best parameters:')\n",
    "print(space_eval(hp_space, best_clf))"
   ]
  },
  {
   "cell_type": "markdown",
   "metadata": {},
   "source": [
    "### Step 5: fitting model with the best hyperparameters"
   ]
  },
  {
   "cell_type": "code",
   "execution_count": 72,
   "metadata": {},
   "outputs": [],
   "source": [
    "clf_best = f_clf(space_eval(hp_space, best_clf)).fit(X_train, y_train)"
   ]
  },
  {
   "cell_type": "code",
   "execution_count": 73,
   "metadata": {},
   "outputs": [
    {
     "data": {
      "image/png": "[encoded data removed]",
      "text/plain": [
       "<Figure size 864x432 with 1 Axes>"
      ]
     },
     "metadata": {
      "needs_background": "light"
     },
     "output_type": "display_data"
    }
   ],
   "source": [
    "import matplotlib.pyplot as plt\n",
    "%matplotlib inline\n",
    "\n",
    "fig, ax = plt.subplots(nrows = 1, ncols = 1, figsize = (12,6))\n",
    "ax.plot(range(1, len(trials_clf) + 1), [-x['result']['loss'] for x in trials_clf], \n",
    "        color='blue', marker='.', linewidth=2)\n",
    "\n",
    "ax.set_xlabel('Iteration', fontsize=12)\n",
    "ax.set_ylabel('ROC-AUC', fontsize=12)\n",
    "ax.set_title('Optimization history', fontsize=14)\n",
    "plt.show()"
   ]
  }
 ],
 "metadata": {
  "kernelspec": {
   "display_name": "Python 3",
   "language": "python",
   "name": "python3"
  },
  "language_info": {
   "codemirror_mode": {
    "name": "ipython",
    "version": 3
   },
   "file_extension": ".py",
   "mimetype": "text/x-python",
   "name": "python",
   "nbconvert_exporter": "python",
   "pygments_lexer": "ipython3",
   "version": "3.6.8"
  }
 },
 "nbformat": 4,
 "nbformat_minor": 2
}
